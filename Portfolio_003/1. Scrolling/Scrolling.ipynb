{
 "cells": [
  {
   "cell_type": "markdown",
   "id": "suffering-testimony",
   "metadata": {
    "ExecuteTime": {
     "end_time": "2021-03-24T11:31:22.857914Z",
     "start_time": "2021-03-24T11:31:22.855914Z"
    }
   },
   "source": [
    "### Google"
   ]
  },
  {
   "cell_type": "code",
   "execution_count": null,
   "id": "chemical-greene",
   "metadata": {
    "ExecuteTime": {
     "end_time": "2021-03-24T07:07:06.602290Z",
     "start_time": "2021-03-24T06:57:41.834569Z"
    }
   },
   "outputs": [],
   "source": [
    "## google\n",
    "import urllib.request \n",
    "from bs4 import BeautifulSoup \n",
    "from selenium import webdriver  \n",
    "from selenium.webdriver.common.keys import Keys\n",
    "import time       \n",
    "\n",
    "binary = 'C:\\\\chromedriver\\\\chromedriver.exe'\n",
    "browser = webdriver.Chrome(binary)\n",
    "browser.get(\"https:\\\\www.google.co.kr\\imghp?hl=ko&tab=wi&ei=l1AdWbegOcra8QXvtr-4Cw&ved=0EKouCBUoAQ\")    # 이미지검색 url\n",
    "elem = browser.find_element_by_xpath(\"//*[@class='gLFyf gsfi']\")    # 검색어 입력창 html class  # naver, bing 과는 다른형태 \n",
    "\n",
    "elem.send_keys(\"CW2288-111\")    # 검색어 입력\n",
    "# time.sleep(3)    # 이미지 검색이 아닌 통합검색으로 되는경우 time.sleep(3) 사용\n",
    "elem.submit()\n",
    "\n",
    "for i in range(30):    # 스크롤 횟수\n",
    "    browser.find_element_by_xpath(\"//body\").send_keys(Keys.END)\n",
    "    time.sleep(10)    # 10 ~ 15초 가 적정선(네트워크 환경 고려 설정)\n",
    "\n",
    "time.sleep(10)                   \n",
    "html = browser.page_source         \n",
    "soup = BeautifulSoup(html, \"lxml\")    \n",
    "\n",
    "#browser.find_element_by_xpath(\"//*[@class='mye4qd']\").click()  # 결과 더보기 버튼 클릭 code (추가 이미지 view 가능)\n",
    "\n",
    "for i in range(30): # 결과 더보기 이후 스크롤\n",
    "    browser.find_element_by_xpath(\"//body\").send_keys(Keys.END)\n",
    "    time.sleep(5)          \n",
    "\n",
    "time.sleep(15)               \n",
    "html = browser.page_source         \n",
    "soup = BeautifulSoup(html, \"lxml\") \n",
    "\n",
    "\n",
    "def fetch_list_url():\n",
    "    params = []\n",
    "    imgList = soup.find_all(\"img\", class_=\"rg_i Q4LuWd\")    # 이미지 src 접근 태그, class\n",
    "    for im in imgList:\n",
    "        try :\n",
    "            params.append(im[\"src\"])                   \n",
    "        except KeyError:\n",
    "            params.append(im[\"data-src\"])\n",
    "    return params\n",
    "\n",
    "\n",
    "def fetch_detail_url():\n",
    "    params = fetch_list_url()\n",
    "    for idx,p in enumerate(params,1):\n",
    "        urllib.request.urlretrieve(p, \"e:\\images\\google\\\\\" + str(idx) + \"_google.jpg\")    # 폴더경로 + 파일명지정(asc번호부여)\n",
    "\n",
    "\n",
    "fetch_detail_url()\n",
    "browser.quit()"
   ]
  },
  {
   "cell_type": "code",
   "execution_count": null,
   "id": "elementary-parish",
   "metadata": {},
   "outputs": [],
   "source": []
  },
  {
   "cell_type": "markdown",
   "id": "graphic-chosen",
   "metadata": {
    "ExecuteTime": {
     "end_time": "2021-03-24T11:31:13.324791Z",
     "start_time": "2021-03-24T11:31:13.321792Z"
    }
   },
   "source": [
    "### Naver"
   ]
  },
  {
   "cell_type": "code",
   "execution_count": null,
   "id": "complete-privilege",
   "metadata": {
    "ExecuteTime": {
     "end_time": "2021-03-24T07:26:57.238289Z",
     "start_time": "2021-03-24T07:21:51.383522Z"
    }
   },
   "outputs": [],
   "source": [
    "## Naver\n",
    "import urllib.request    \n",
    "from bs4 import BeautifulSoup    \n",
    "from selenium import webdriver   \n",
    "from selenium.webdriver.common.keys import Keys\n",
    "import time    \n",
    "\n",
    "binary = 'C:\\\\chromedriver\\\\chromedriver.exe'    \n",
    "browser = webdriver.Chrome(binary)    \n",
    "browser.get(\"https://search.naver.com/search.naver?where=image&amp;sm=stb_nmr&amp;\")    # 네이버 img 검색창\n",
    "elem = browser.find_element_by_id(\"nx_query\")    #find_elements_by_class_name(\"\") : 클래스 이름으로 찾을 때 사용\n",
    "\n",
    "elem.send_keys(\"CW2288-111\")    # 검색어 입력 \n",
    "# time.sleep(3)    # 통합검색창으로 가지는 현상발생시 적용\n",
    "elem.submit()\n",
    "\n",
    "for i in range(20):    # 스크롤횟수\n",
    "    browser.find_element_by_xpath(\"//body\").send_keys(Keys.END)\n",
    "    time.sleep(10)    \n",
    "\n",
    "time.sleep(90)    \n",
    "html = browser.page_source\n",
    "soup = BeautifulSoup(html,\"lxml\")\n",
    "\n",
    "\n",
    "def fetch_list_url():    \n",
    "    params = []\n",
    "    imgList = soup.find_all(\"img\", class_=\"_image\")    # <img class_=\"_img\">\n",
    "    for im in imgList:\n",
    "        params.append(im[\"src\"])    \n",
    "    return params\n",
    "\n",
    "\n",
    "def  fetch_detail_url():   \n",
    "    params = fetch_list_url()\n",
    "    a = 1\n",
    "    for p in params:\n",
    "        urllib.request.urlretrieve(p, \"e:/images/naver/\"+ str(a) + \"_naver.jpg\" )    # 다운받을 폴더경로+파일명지정(asc번호부여)\n",
    "        a = a + 1\n",
    "\n",
    "fetch_detail_url()\n",
    "browser.quit()\n"
   ]
  },
  {
   "cell_type": "code",
   "execution_count": null,
   "id": "civic-simon",
   "metadata": {},
   "outputs": [],
   "source": []
  },
  {
   "cell_type": "markdown",
   "id": "durable-circuit",
   "metadata": {
    "ExecuteTime": {
     "end_time": "2021-03-24T11:30:56.962303Z",
     "start_time": "2021-03-24T11:30:56.961303Z"
    }
   },
   "source": [
    "### Bing"
   ]
  },
  {
   "cell_type": "code",
   "execution_count": null,
   "id": "intelligent-compensation",
   "metadata": {
    "ExecuteTime": {
     "end_time": "2021-03-24T07:32:48.932792Z",
     "start_time": "2021-03-24T07:26:57.242291Z"
    }
   },
   "outputs": [],
   "source": [
    "## Bing\n",
    "import urllib.request    \n",
    "from bs4 import BeautifulSoup    \n",
    "from selenium import webdriver    \n",
    "from selenium.webdriver.common.keys import Keys\n",
    "import time    \n",
    "\n",
    "binary = 'C:\\\\chromedriver\\\\chromedriver.exe'    \n",
    "browser = webdriver.Chrome(binary)    \n",
    "browser.get(\"https://www.bing.com/images?Form=Z9LH\")    \n",
    "elem = browser.find_element_by_id(\"sb_form_q\")    \n",
    "\n",
    "elem.send_keys(\"CW2288-111\")    # 검색어 입력  \n",
    "time.sleep(3)    # 제거시 통합검색창으로 이동함(제거금지)\n",
    "elem.submit()\n",
    "\n",
    "for i in range(30):    # 스크롤횟수\n",
    "    browser.find_element_by_xpath(\"//body\").send_keys(Keys.END)\n",
    "    time.sleep(10)    # 10~15\n",
    "    \n",
    "time.sleep(15)    \n",
    "html = browser.page_source\n",
    "soup = BeautifulSoup(html,\"lxml\")\n",
    "\n",
    "def fetch_list_url():    \n",
    "    params = []\n",
    "    imgList = soup.find_all(\"img\", class_=\"mimg\")    # 이미지 src 접근 tag, class\n",
    "    for im in imgList:\n",
    "        params.append(im[\"src\"])    \n",
    "    return params\n",
    "\n",
    "def  fetch_detail_url():   \n",
    "    params = fetch_list_url()\n",
    "    a = 1\n",
    "    for p in params:\n",
    "        urllib.request.urlretrieve(p, \"e:/images/bing/\"+ str(a) + \"_bing.jpg\" )    # 폴더경로+파일지정(asc번호부여)\n",
    "        a += 1\n",
    "        \n",
    "        \n",
    "fetch_detail_url()\n",
    "browser.quit()"
   ]
  },
  {
   "cell_type": "code",
   "execution_count": null,
   "id": "associate-geography",
   "metadata": {},
   "outputs": [],
   "source": []
  },
  {
   "cell_type": "markdown",
   "id": "confused-desire",
   "metadata": {},
   "source": [
    "### Instagram"
   ]
  },
  {
   "cell_type": "code",
   "execution_count": null,
   "id": "unlike-comedy",
   "metadata": {
    "ExecuteTime": {
     "start_time": "2021-03-31T08:54:49.131Z"
    }
   },
   "outputs": [],
   "source": [
    "### Instagram scrolling \n",
    "\n",
    "\"\"\"\n",
    "This code enter the page first pop up tag list : when you enter the tag like \"#apple\".\n",
    "So, before execute the code, check out what is the first pop up tag for accurate img scrolling.\n",
    "\"\"\"\n",
    "\n",
    "## Import modules\n",
    "from selenium import webdriver\n",
    "from selenium.webdriver.common.keys import Keys\n",
    "from bs4 import BeautifulSoup\n",
    "import time as time\n",
    "from time import sleep\n",
    "import requests\n",
    "import getpass\n",
    "import shutil\n",
    "%matplotlib inline\n",
    "\n",
    "##### Parameters ################################################################\n",
    "Chromedriver_PATH = 'c:\\\\chromedriver\\\\chromedriver.exe'  # Chromedriver PATH \n",
    "scroll_cnt = 20\n",
    "#save_path = 'E:\\\\images\\\\instagram\\\\'  #save_path \n",
    "save_path = 'd:\\\\images\\\\instagram\\\\'  #save_path \n",
    "#################################################################################\n",
    "\n",
    "\n",
    "\n",
    "## get userdata\n",
    "username = input(\"Input ID : \")  # User ID\n",
    "password = input(\"Input PWD : \")  # User PWD  #getpass : hidden option\n",
    "hashTag_k = input(\"Input HashTag # : \")  # hashTag\n",
    "hashTag = '#' + hashTag_k\n",
    "\n",
    "## hidden option for login\n",
    "# username = getpass.getpass(\"Input ID : \")  # User ID\n",
    "# password = getpass.getpass(\"Input PWD : \")  # User PWD  #getpass : hidden option\n",
    "\n",
    "\n",
    "## Get driver & open\n",
    "driver = webdriver.Chrome(Chromedriver_PATH)  # Chromedriver PATH \n",
    "driver.get(\"https://www.instagram.com/accounts/login/\")\n",
    "hashLink = '//a[@href=\"/explore/tags/'+hashTag+'/\"]'\n",
    "driver.maximize_window()\n",
    "sleep(3)\n",
    "\n",
    "\n",
    "## insert logindata in \"login div\"\n",
    "element_id = driver.find_element_by_name(\"username\")\n",
    "element_id.send_keys(username)\n",
    "element_password = driver.find_element_by_name(\"password\")\n",
    "element_password.send_keys(password) \n",
    "driver.implicitly_wait(5)\n",
    "\n",
    "\n",
    "## click login botton\n",
    "driver.find_element_by_css_selector('.sqdOP.L3NKy.y3zKF').click()\n",
    "\n",
    "\n",
    "## input hash tag & push 'Enter'x2\n",
    "sleep(1.5)\n",
    "search = driver.find_element_by_xpath(\"\"\"//*[@id=\"react-root\"]/section/nav/div[2]/div/div/div[2]/input\"\"\")\n",
    "search.send_keys(hashTag)\n",
    "time.sleep(3)\n",
    "search.send_keys(Keys.ENTER)\n",
    "search.send_keys(Keys.ENTER)\n",
    "\n",
    "\n",
    "\n",
    "## scrolling \n",
    "for i in range(scroll_cnt):\n",
    "    driver.execute_script(\"window.scrollTo(0, document.body.scrollHeight);\")\n",
    "    time.sleep(5)  #if your network speed low, increasing second is recommanded\n",
    "\n",
    "\n",
    "\n",
    "## Parsing & get soup_detail('.v1Nh3')\n",
    "time.sleep(20)\n",
    "html = driver.page_source\n",
    "time.sleep(10)\n",
    "soup = BeautifulSoup(html, \"lxml\")\n",
    "time.sleep(10)\n",
    "insta = soup.select('.v1Nh3')\n",
    "imglist = []\n",
    "time.sleep(10)\n",
    "\n",
    "\n",
    "## Get imglist\n",
    "for i in insta:\n",
    "    #print('https://www.instagram.com' +  i.a['href'])  #src address (don't recommand : True)\n",
    "    imgUrl = i.select_one('.KL4Bh').img['src']\n",
    "    imglist.append(imgUrl)       \n",
    "time.sleep(30)  #if you scrolling a lot, recommand increasing second(:maybe 60?)\n",
    "\n",
    "\n",
    "## Save src_img\n",
    "for i in range( len(imglist) ):\n",
    "    image_url = imglist[i]\n",
    "    resp = requests.get(image_url, stream=True)\n",
    "    local_file = open(save_path + hashTag_k + '_' + str(i+1) + '.jpg', 'wb')   #behind save_path : filename\n",
    "    resp.raw.decode_content = True\n",
    "    shutil.copyfileobj(resp.raw, local_file)\n",
    "    del resp\n",
    "    \n",
    "    \n",
    "driver.close()"
   ]
  },
  {
   "cell_type": "code",
   "execution_count": null,
   "id": "confirmed-democrat",
   "metadata": {
    "ExecuteTime": {
     "end_time": "2021-03-25T11:31:06.575233Z",
     "start_time": "2021-03-25T11:31:06.552227Z"
    }
   },
   "outputs": [],
   "source": [
    "soup = BeautifulSoup(html, \"lxml\")\n",
    "k = soup.select('.v1Nh3')\n",
    "k.select_one()\n",
    "len(k)"
   ]
  },
  {
   "cell_type": "code",
   "execution_count": null,
   "id": "described-diabetes",
   "metadata": {},
   "outputs": [],
   "source": []
  },
  {
   "cell_type": "code",
   "execution_count": null,
   "id": "acquired-schedule",
   "metadata": {},
   "outputs": [],
   "source": []
  },
  {
   "cell_type": "code",
   "execution_count": null,
   "id": "alone-vinyl",
   "metadata": {},
   "outputs": [],
   "source": []
  },
  {
   "cell_type": "code",
   "execution_count": null,
   "id": "disabled-peninsula",
   "metadata": {},
   "outputs": [],
   "source": []
  },
  {
   "cell_type": "code",
   "execution_count": null,
   "id": "dress-snapshot",
   "metadata": {},
   "outputs": [],
   "source": []
  },
  {
   "cell_type": "code",
   "execution_count": null,
   "id": "legitimate-bankruptcy",
   "metadata": {},
   "outputs": [],
   "source": []
  },
  {
   "cell_type": "code",
   "execution_count": null,
   "id": "absent-waters",
   "metadata": {},
   "outputs": [],
   "source": []
  },
  {
   "cell_type": "code",
   "execution_count": null,
   "id": "critical-administration",
   "metadata": {},
   "outputs": [],
   "source": []
  }
 ],
 "metadata": {
  "kernelspec": {
   "display_name": "Python 3",
   "language": "python",
   "name": "python3"
  },
  "language_info": {
   "codemirror_mode": {
    "name": "ipython",
    "version": 3
   },
   "file_extension": ".py",
   "mimetype": "text/x-python",
   "name": "python",
   "nbconvert_exporter": "python",
   "pygments_lexer": "ipython3",
   "version": "3.7.9"
  },
  "toc": {
   "base_numbering": 1,
   "nav_menu": {},
   "number_sections": true,
   "sideBar": true,
   "skip_h1_title": false,
   "title_cell": "Table of Contents",
   "title_sidebar": "Contents",
   "toc_cell": false,
   "toc_position": {},
   "toc_section_display": true,
   "toc_window_display": false
  }
 },
 "nbformat": 4,
 "nbformat_minor": 5
}
